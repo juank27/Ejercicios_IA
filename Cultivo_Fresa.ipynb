{
 "cells": [
  {
   "cell_type": "code",
   "execution_count": null,
   "metadata": {},
   "outputs": [],
   "source": [
    "nombre = input(\"¿Cual es su nombre? :\")\n",
    "\n",
    "# creo el archivo vacio\n",
    "def crear_archivo(nombre):\n",
    "   name_file = \"{}.txt\".format(nombre)\n",
    "   file = open(name_file,'a')\n",
    "   file.close()\n",
    "   return name_file\n",
    "\n",
    "\n",
    "#Agregar datos a txt\n",
    "def guardar_datos(nombre_file, datos_dia):\n",
    "   file = open(nombre_file,'a')\n",
    "   file.write(\"\\n\" + str(datos_dia))\n",
    "   file.close()\n",
    "\n",
    "#generar datos random\n",
    "import random\n",
    "def crear_datos_random(nombre_file):\n",
    "   for i in range (1,32):\n",
    "      fecha = (2022,3,i)\n",
    "      area_cultivo = random.randint(1,5)\n",
    "      fresa_total = random.randint(1,1000)\n",
    "      fresa_calidad = random.randint(1,1000)\n",
    "      datos = [fecha, area_cultivo, fresa_total, fresa_calidad]\n",
    "      guardar_datos(nombre_file,datos)\n",
    "   print(datos)\n",
    "\n",
    "name_file = crear_archivo(nombre)\n",
    "crear_datos_random(name_file)"
   ]
  },
  {
   "cell_type": "code",
   "execution_count": 5,
   "metadata": {},
   "outputs": [
    {
     "name": "stdout",
     "output_type": "stream",
     "text": [
      "1. Ingresar nombre\n",
      "2. Ingresar informacion\n",
      "3. Buscar informacion\n",
      "4. graficar datos\n",
      "5. Salir\n",
      "Elige una opcion\n",
      "Introduce un numero entre 1 y 5\n",
      "1. Ingresar nombre\n",
      "2. Ingresar informacion\n",
      "3. Buscar informacion\n",
      "4. graficar datos\n",
      "5. Salir\n",
      "Elige una opcion\n",
      "Error, introduce un numero entero\n",
      "Error, introduce un numero entero\n",
      "sesion finalizada\n"
     ]
    }
   ],
   "source": [
    "\n",
    "def pedirNumeroEntero():\n",
    "   correcto=False\n",
    "   num = 0\n",
    "   while(not correcto):\n",
    "      try:\n",
    "         num = int(input(\"Introduce un numero entero: \"))\n",
    "         correcto=True\n",
    "      except ValueError:\n",
    "         print('Error, introduce un numero entero')\n",
    "   return num\n",
    "\n",
    "salir = False\n",
    "opcion = 0\n",
    "while not salir:\n",
    "   print (\"1. Ingresar nombre\")\n",
    "   print (\"2. Ingresar informacion\")\n",
    "   print (\"3. Buscar informacion\")\n",
    "   print (\"4. graficar datos\")\n",
    "   print (\"5. Salir\")\n",
    "   print (\"Elige una opcion\")\n",
    "   opcion = pedirNumeroEntero()\n",
    "   if opcion == 1:\n",
    "      print (\"Ingresar el nombre para crear el archivo.\")\n",
    "   elif opcion == 2:\n",
    "      print (\"Para Ingresar info\")\n",
    "   elif opcion == 3:\n",
    "      print(\"Buscar informacion\")\n",
    "   elif opcion == 4:\n",
    "      print(\"Graficar datos\")\n",
    "   elif opcion == 5:\n",
    "      salir = True\n",
    "   else:\n",
    "      print (\"Introduce un numero entre 1 y 5\")\n",
    "print (\"sesion finalizada\")"
   ]
  }
 ],
 "metadata": {
  "interpreter": {
   "hash": "6a880546a330da62f0c66beb3f33dfa5745157ab8f10819995d3dabe1f32839d"
  },
  "kernelspec": {
   "display_name": "Python 3.9.7 ('IA')",
   "language": "python",
   "name": "python3"
  },
  "language_info": {
   "codemirror_mode": {
    "name": "ipython",
    "version": 3
   },
   "file_extension": ".py",
   "mimetype": "text/x-python",
   "name": "python",
   "nbconvert_exporter": "python",
   "pygments_lexer": "ipython3",
   "version": "3.9.7"
  },
  "orig_nbformat": 4
 },
 "nbformat": 4,
 "nbformat_minor": 2
}
