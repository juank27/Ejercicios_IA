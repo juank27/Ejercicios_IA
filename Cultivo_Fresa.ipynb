{
 "cells": [
  {
   "cell_type": "code",
   "execution_count": 1,
   "metadata": {},
   "outputs": [],
   "source": [
    "nombre = input(\"Dijite su nombre\")\n"
   ]
  },
  {
   "cell_type": "code",
   "execution_count": 7,
   "metadata": {},
   "outputs": [
    {
     "data": {
      "text/plain": [
       "3"
      ]
     },
     "execution_count": 7,
     "metadata": {},
     "output_type": "execute_result"
    }
   ],
   "source": [
    "import random\n",
    "random.randint(1,5)\n",
    "datos = []\n"
   ]
  },
  {
   "cell_type": "code",
   "execution_count": 13,
   "metadata": {},
   "outputs": [
    {
     "name": "stdout",
     "output_type": "stream",
     "text": [
      "a obtuvo\n",
      "b obtuvo\n",
      "c obtuvo\n",
      "d obtuvo\n"
     ]
    }
   ],
   "source": [
    "dic = {'a':1,'b' : 2, 'c' : 3 , 'd':4, 'a':3}\n",
    "dic.setdefault('a')\n",
    "\n",
    "for nota in dic.keys():\n",
    "   print(\"{} obtuvo\".format(nota))"
   ]
  }
 ],
 "metadata": {
  "interpreter": {
   "hash": "6a880546a330da62f0c66beb3f33dfa5745157ab8f10819995d3dabe1f32839d"
  },
  "kernelspec": {
   "display_name": "Python 3.9.7 ('IA')",
   "language": "python",
   "name": "python3"
  },
  "language_info": {
   "codemirror_mode": {
    "name": "ipython",
    "version": 3
   },
   "file_extension": ".py",
   "mimetype": "text/x-python",
   "name": "python",
   "nbconvert_exporter": "python",
   "pygments_lexer": "ipython3",
   "version": "3.9.7"
  },
  "orig_nbformat": 4
 },
 "nbformat": 4,
 "nbformat_minor": 2
}
