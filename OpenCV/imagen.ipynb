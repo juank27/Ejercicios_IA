{
 "cells": [
  {
   "cell_type": "code",
   "execution_count": 1,
   "metadata": {},
   "outputs": [],
   "source": [
    "import cv2\n",
    "#gris = cv2.cvtColor(\"monaLisa.jpg\", cv2.COLOT_BGR2GRAY)\n",
    "img = cv2.imread(\"monalisa.jpg\", 0)\n",
    "bordesCanny = cv2.Canny(img,100,200)\n",
    "\n",
    "cv2.imshow('Img', img)\n",
    "cv2.imshow('Canny - valMin =100 - valMax = 200', bordesCanny)\n",
    "\n",
    "cv2.waitKey(0)\n",
    "cv2.destroyAllWindows()"
   ]
  }
 ],
 "metadata": {
  "interpreter": {
   "hash": "6a880546a330da62f0c66beb3f33dfa5745157ab8f10819995d3dabe1f32839d"
  },
  "kernelspec": {
   "display_name": "Python 3.9.7 ('IA')",
   "language": "python",
   "name": "python3"
  },
  "language_info": {
   "codemirror_mode": {
    "name": "ipython",
    "version": 3
   },
   "file_extension": ".py",
   "mimetype": "text/x-python",
   "name": "python",
   "nbconvert_exporter": "python",
   "pygments_lexer": "ipython3",
   "version": "3.9.7"
  },
  "orig_nbformat": 4
 },
 "nbformat": 4,
 "nbformat_minor": 2
}
