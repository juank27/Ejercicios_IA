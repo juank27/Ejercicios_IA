{
 "cells": [
  {
   "cell_type": "code",
   "execution_count": 34,
   "metadata": {},
   "outputs": [],
   "source": [
    "# pedir nombre y crear un archivo con el nombre del usuario\n",
    "nombre = input(\"Dijite su nombre\")\n",
    "name_file = \"{}.txt\".format(nombre)\n",
    "file = open(name_file,'a')\n",
    "file.write(\"\\n \"+\"El cultivo es de \" + nombre)\n",
    "file.close()"
   ]
  },
  {
   "cell_type": "code",
   "execution_count": 24,
   "metadata": {},
   "outputs": [],
   "source": [
    "# creo el archivo vacio\n",
    "nombre = input(\"¿Cual es su nombre? :\")\n",
    "\n",
    "def crear_archivo(nombre):\n",
    "   name_file = \"{}.txt\".format(nombre)\n",
    "   file = open(name_file,'a')\n",
    "   file.close()\n",
    "   return name_file\n",
    "\n",
    "name_file = crear_archivo(nombre)"
   ]
  },
  {
   "cell_type": "code",
   "execution_count": 25,
   "metadata": {},
   "outputs": [],
   "source": [
    "#Agregar datos a txt\n",
    "def guardar_datos(nombre_file, datos_dia):\n",
    "   file = open(nombre_file,'a')\n",
    "   file.write(\"\\n\" + str(datos_dia))\n",
    "   file.close()"
   ]
  },
  {
   "cell_type": "code",
   "execution_count": 26,
   "metadata": {},
   "outputs": [
    {
     "name": "stdout",
     "output_type": "stream",
     "text": [
      "[(2022, 3, 31), 1, 75, 548]\n"
     ]
    }
   ],
   "source": [
    "#generar datos random\n",
    "import random\n",
    "def crear_datos_random(nombre_file):\n",
    "   for i in range (1,32):\n",
    "      fecha = (2022,3,i)\n",
    "      area_cultivo = random.randint(1,5)\n",
    "      fresa_total = random.randint(1,1000)\n",
    "      fresa_calidad = random.randint(1,1000)\n",
    "      datos = [fecha, area_cultivo, fresa_total, fresa_calidad]\n",
    "      guardar_datos(nombre_file,datos)\n",
    "   print(datos)\n",
    "\n",
    "crear_datos_random(name_file)\n"
   ]
  },
  {
   "cell_type": "code",
   "execution_count": 33,
   "metadata": {},
   "outputs": [
    {
     "name": "stdout",
     "output_type": "stream",
     "text": [
      "juan.txt\n",
      "['\\n', ' El cultivo es de juan\\n', ' El cultivo es de juan\\n', ' El cultivo es de juan']\n"
     ]
    }
   ],
   "source": [
    "# leer archivo linea por linea\n",
    "print(name_file)\n",
    "file = open(name_file,'r')\n",
    "lineas = file.readlines()\n",
    "file.close()\n",
    "print(lineas)"
   ]
  },
  {
   "cell_type": "code",
   "execution_count": 36,
   "metadata": {},
   "outputs": [
    {
     "name": "stdout",
     "output_type": "stream",
     "text": [
      "\n",
      "\n",
      " El cultivo es de juan\n",
      "\n",
      " El cultivo es de juan\n",
      "\n",
      " El cultivo es de juan\n",
      "\n",
      " El cultivo es de juan\n"
     ]
    }
   ],
   "source": [
    "# leer archivo linea por linea\n",
    "file = open(name_file, 'r')\n",
    "for linea in file:\n",
    "   print(linea)\n",
    "file.close()"
   ]
  },
  {
   "cell_type": "code",
   "execution_count": 37,
   "metadata": {},
   "outputs": [
    {
     "name": "stdout",
     "output_type": "stream",
     "text": [
      "\n",
      " El cultivo es de juan\n",
      " El cultivo es de juan\n",
      " El cultivo es de juan\n",
      " El cultivo es de juan\n"
     ]
    }
   ],
   "source": [
    "palabra = open(name_file, \"r\")\n",
    "print(palabra.read())"
   ]
  },
  {
   "cell_type": "code",
   "execution_count": 15,
   "metadata": {},
   "outputs": [],
   "source": [
    "import random\n",
    "random.randint(1,5)\n",
    "datos = [[]]\n"
   ]
  },
  {
   "cell_type": "code",
   "execution_count": 13,
   "metadata": {},
   "outputs": [
    {
     "name": "stdout",
     "output_type": "stream",
     "text": [
      "a obtuvo\n",
      "b obtuvo\n",
      "c obtuvo\n",
      "d obtuvo\n"
     ]
    }
   ],
   "source": [
    "dic = {'a':1,'b' : 2, 'c' : 3 , 'd':4, 'a':3}\n",
    "dic.setdefault('a')\n",
    "\n",
    "for nota in dic.keys():\n",
    "   print(\"{} obtuvo\".format(nota))"
   ]
  }
 ],
 "metadata": {
  "interpreter": {
   "hash": "6a880546a330da62f0c66beb3f33dfa5745157ab8f10819995d3dabe1f32839d"
  },
  "kernelspec": {
   "display_name": "Python 3.9.7 ('IA')",
   "language": "python",
   "name": "python3"
  },
  "language_info": {
   "codemirror_mode": {
    "name": "ipython",
    "version": 3
   },
   "file_extension": ".py",
   "mimetype": "text/x-python",
   "name": "python",
   "nbconvert_exporter": "python",
   "pygments_lexer": "ipython3",
   "version": "3.9.7"
  },
  "orig_nbformat": 4
 },
 "nbformat": 4,
 "nbformat_minor": 2
}
