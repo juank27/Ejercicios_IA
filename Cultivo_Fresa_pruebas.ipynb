{
 "cells": [
  {
   "cell_type": "code",
   "execution_count": 2,
   "metadata": {},
   "outputs": [],
   "source": [
    "# pedir nombre y crear un archivo con el nombre del usuario\n",
    "nombre = input(\"Dijite su nombre\")\n",
    "name_file = \"{}.txt\".format(nombre)\n",
    "file = open(name_file,'a')\n",
    "file.write(\"\\n \"+\"El cultivo es de \" + nombre)\n",
    "file.close()"
   ]
  },
  {
   "cell_type": "code",
   "execution_count": 4,
   "metadata": {},
   "outputs": [],
   "source": [
    "# creo el archivo vacio\n",
    "nombre = input(\"¿Cual es su nombre? :\")\n",
    "\n",
    "def crear_archivo(nombre):\n",
    "   name_file = \"{}.txt\".format(nombre)\n",
    "   file = open(name_file,'a')\n",
    "   file.close()\n",
    "   return name_file\n",
    "\n",
    "name_file = crear_archivo(nombre)"
   ]
  },
  {
   "cell_type": "code",
   "execution_count": 5,
   "metadata": {},
   "outputs": [],
   "source": [
    "#Agregar datos a txt\n",
    "def guardar_datos(nombre_file, datos_dia):\n",
    "   file = open(nombre_file,'a')\n",
    "   file.write(str(datos_dia) + \"\\n\")\n",
    "   file.close()"
   ]
  },
  {
   "cell_type": "code",
   "execution_count": 6,
   "metadata": {},
   "outputs": [
    {
     "name": "stdout",
     "output_type": "stream",
     "text": [
      "[(2022, 3, 31), 3, 793, 781]\n"
     ]
    }
   ],
   "source": [
    "#generar datos random\n",
    "import random\n",
    "def crear_datos_random(nombre_file):\n",
    "   for i in range (1,32):\n",
    "      fecha = (2022,3,i)\n",
    "      area_cultivo = random.randint(1,4)\n",
    "      fresa_total = random.randint(1,1000)\n",
    "      fresa_calidad = random.randint(1,fresa_total)\n",
    "      datos = [fecha, area_cultivo, fresa_total, fresa_calidad]\n",
    "      guardar_datos(nombre_file,datos)\n",
    "   print(datos)\n",
    "\n",
    "crear_datos_random(name_file)"
   ]
  },
  {
   "cell_type": "code",
   "execution_count": null,
   "metadata": {},
   "outputs": [],
   "source": [
    "#Leer archivos linea por linea"
   ]
  },
  {
   "cell_type": "code",
   "execution_count": 33,
   "metadata": {},
   "outputs": [
    {
     "name": "stdout",
     "output_type": "stream",
     "text": [
      "juan.txt\n",
      "['\\n', ' El cultivo es de juan\\n', ' El cultivo es de juan\\n', ' El cultivo es de juan']\n"
     ]
    }
   ],
   "source": [
    "# leer archivo linea por linea\n",
    "print(name_file)\n",
    "file = open(name_file,'r')\n",
    "lineas = file.readlines()\n",
    "file.close()\n",
    "print(lineas)"
   ]
  },
  {
   "cell_type": "code",
   "execution_count": null,
   "metadata": {},
   "outputs": [],
   "source": [
    "# leer archivo linea por linea\n",
    "file = open(name_file, 'r')\n",
    "for linea in file:\n",
    "   print(linea)\n",
    "file.close()"
   ]
  },
  {
   "cell_type": "code",
   "execution_count": null,
   "metadata": {},
   "outputs": [],
   "source": [
    "#lectura y limpieza de datos\n",
    "def lectura_datos(name_file, zona=None, fecha_inicial=None, fecha_final=None):\n",
    "\tfile = open(name_file, \"r\")\n",
    "\t#print(palabra.read())\n",
    "\tfor linea in file:\n",
    "\t\tn = list(linea.strip('([]\\n').split('),'))\n",
    "\t\tprint(n)\n",
    "\t\tif fecha_inicial != None :\n",
    "\t\t\tfecha = list(n[0].split(',')) # lista fecha\n",
    "\t\t\tdatos = list(n[1].split(',')) # lista datos\n",
    "\t\t\t#if fecha_inicial < fecha  || fecha < fecha_final:\n",
    "\t\t\t#\tpass#continuar aca con las condiciones para el rango de las fechas\n",
    "\tfile.close()\n",
    "\tprint(n) #lista tratada y dividida en fecha y datos\n",
    "\tfecha = list(n[0].split(',')) # lista fecha\n",
    "\tdatos = list(n[1].split(',')) # lista datos\n",
    "\tprint(fecha)\n",
    "\tprint(datos)\n",
    "\tprint(int(datos[1]))\n",
    "\tprint(\"---------------------------------------------\")\n",
    "\treturn fecha,datos\n",
    "\n",
    "a,n =lectura_datos(name_file)\n"
   ]
  },
  {
   "cell_type": "markdown",
   "metadata": {},
   "source": []
  },
  {
   "cell_type": "code",
   "execution_count": 112,
   "metadata": {},
   "outputs": [
    {
     "name": "stdout",
     "output_type": "stream",
     "text": [
      "[2022, 3, 7, 4, 410, 277]\n",
      "[2022, 3, 11, 4, 105, 37]\n",
      "[2022, 3, 16, 4, 582, 253]\n",
      "[2022, 3, 23, 4, 594, 41]\n",
      "_________________________________\n",
      "['2022, 3, 7', '2022, 3, 11', '2022, 3, 16', '2022, 3, 23']\n",
      "[133, 68, 329, 553]\n",
      "[277, 37, 253, 41]\n"
     ]
    }
   ],
   "source": [
    "#lectura - limpieza de datos - y busqueda por zona y fecha\n",
    "def lectura_datos(name_file, zona=None, fecha_inicial=None, fecha_final=None):\n",
    "\tfile = open(name_file, \"r\")\n",
    "\t#zonas =int (input(\"Escriba la zona:\"))\n",
    "\t#print(palabra.read())\n",
    "\tfecha_grafico = []\n",
    "\tdato_total_grafico = []\n",
    "\tdato_calidad_grafico = []\n",
    "\tfor linea in file:\n",
    "\t\tn = list(linea.strip('([]\\n').split('),'))\n",
    "\t\t#print(type(n[0]))\n",
    "\t\tfecha = list(n[0].split(',')) # lista fecha\n",
    "\t\tdatos = list(n[1].split(',')) # lista datos\n",
    "\t\t#print(fecha)\n",
    "\t\tfecha = list(map(int,fecha)) #lista a int\n",
    "\t\tdatos = list(map(int,datos))#Lisya a int datos\n",
    "\t\tunion = fecha+datos\n",
    "\t\t#print(type(fecha[0]))\n",
    "\t\tzonas=union[3]\n",
    "\t\t#busqueda por zona\n",
    "\t\t#graficos\n",
    "\t\tif zona != None:\n",
    "\t\t\tif zona==zonas:\n",
    "\t\t\t\tprint(union)\n",
    "\t\t\t\tfecha_grafico.append(n[0])\n",
    "\t\t\t\t#print(fecha_grafico)\n",
    "\t\t\t\tresta = union[4]-union[5]\n",
    "\t\t\t\tdato_total_grafico.append(resta)\n",
    "\t\t\t\t#print(dato_total_grafico)\n",
    "\t\t\t\tun = union[5]\n",
    "\t\t\t\tdato_calidad_grafico.append(un)\n",
    "\t\t\t\t#print(dato_calidad_grafico)\n",
    "\t\telif fecha_inicial != None and fecha_final != None:\n",
    "\t\t\t#print(\"Hola\")\n",
    "\t\t\tif fecha_inicial >= fecha or  fecha <= fecha_final:\n",
    "\t\t\t\tprint(union)\n",
    "\t\t\t\tfecha_grafico.append(n[0])\n",
    "\t\t\t\t#print(fecha_grafico)\n",
    "\t\t\t\tresta = union[4]-union[5]\n",
    "\t\t\t\tdato_total_grafico.append(resta)\n",
    "\t\t\t\t#print(dato_total_grafico)\n",
    "\t\t\t\tun = union[5]\n",
    "\t\t\t\tdato_calidad_grafico.append(un)\n",
    "\t\t\t\t#print(dato_calidad_grafico)\n",
    "\t\t\telif fecha > fecha_final :\n",
    "\t\t\t\tbreak\n",
    "\t\telse:\n",
    "\t\t\tprint(\"Busqueda Vacia\")\n",
    "\treturn fecha_grafico, dato_total_grafico, dato_calidad_grafico\n",
    "\n",
    "#a,n =lectura_datos(name_file)\n",
    "#f = fecha , dt = dato_total_grafico, dc = dato_calidad_grafico\n",
    "f,dt,dc = lectura_datos(name_file=\"juan.txt\", zona=4)\n",
    "            #fecha_inicial=[2022, 3, 2],\n",
    "            #fecha_final=[2022, 3, 10])\n",
    "print(\"_________________________________\")\n",
    "#print(f[0].replace(', ', \"-\"))\n",
    "print(f)\n",
    "print(dt)\n",
    "print(dc)"
   ]
  },
  {
   "cell_type": "markdown",
   "metadata": {},
   "source": []
  },
  {
   "cell_type": "code",
   "execution_count": 113,
   "metadata": {},
   "outputs": [
    {
     "name": "stdout",
     "output_type": "stream",
     "text": [
      "['2022-3-7', '2022-3-11', '2022-3-16', '2022-3-23']\n"
     ]
    }
   ],
   "source": [
    "#Convertir la fecha a formato año-mes-dia\n",
    "def convertir_fecha(fecha):\n",
    "   fecha_modificada = []\n",
    "   for i in range(0,len(fecha)):\n",
    "      modificado = fecha[i].replace(', ', \"-\")\n",
    "      fecha_modificada.append(modificado)\n",
    "   return fecha_modificada\n",
    "\n",
    "print(convertir_fecha(f))"
   ]
  },
  {
   "cell_type": "code",
   "execution_count": 114,
   "metadata": {},
   "outputs": [
    {
     "data": {
      "image/png": "[encoded data removed]",
      "text/plain": [
       "<Figure size 648x504 with 1 Axes>"
      ]
     },
     "metadata": {
      "needs_background": "light"
     },
     "output_type": "display_data"
    }
   ],
   "source": [
    "# graficar datos\n",
    "import matplotlib.pyplot as plt\n",
    "import numpy as np\n",
    "\n",
    "def graficar(fecha_zona, total, calidad):\n",
    "\tplt.figure(figsize=(9,7))\n",
    "\tplt.bar(fecha_zona,total,color=\"green\",label=\"Normal\")\n",
    "\tplt.bar(fecha_zona,calidad,color=\"yellow\",bottom=np.array(total),label=\"Primera calidad\")\n",
    "\t#plt.bar(year,data1,color=\"red\",bottom=np.array(data3)+np.array(data2),label=\"C++\")\n",
    "\tplt.legend(loc=\"lower left\",bbox_to_anchor=(0.8,1.0))\n",
    "\n",
    "graficar(f,dt,dc)"
   ]
  },
  {
   "cell_type": "code",
   "execution_count": 29,
   "metadata": {},
   "outputs": [
    {
     "name": "stdout",
     "output_type": "stream",
     "text": [
      "yes\n"
     ]
    }
   ],
   "source": [
    "# validacion de rango de fechas\n",
    "a = [2021, 3, 11]\n",
    "b = [2021, 3, 10]\n",
    "\n",
    "if a > b:\n",
    "   print(\"yes\")\n",
    "else:\n",
    "   print(\"false\")"
   ]
  },
  {
   "cell_type": "code",
   "execution_count": 15,
   "metadata": {},
   "outputs": [],
   "source": [
    "import random\n",
    "random.randint(1,5)\n",
    "datos = [[]]\n"
   ]
  },
  {
   "cell_type": "code",
   "execution_count": 13,
   "metadata": {},
   "outputs": [
    {
     "name": "stdout",
     "output_type": "stream",
     "text": [
      "a obtuvo\n",
      "b obtuvo\n",
      "c obtuvo\n",
      "d obtuvo\n"
     ]
    }
   ],
   "source": [
    "dic = {'a':1,'b' : 2, 'c' : 3 , 'd':4, 'a':3}\n",
    "dic.setdefault('a')\n",
    "\n",
    "for nota in dic.keys():\n",
    "   print(\"{} obtuvo\".format(nota))"
   ]
  }
 ],
 "metadata": {
  "interpreter": {
   "hash": "6a880546a330da62f0c66beb3f33dfa5745157ab8f10819995d3dabe1f32839d"
  },
  "kernelspec": {
   "display_name": "Python 3 (ipykernel)",
   "language": "python",
   "name": "python3"
  },
  "language_info": {
   "codemirror_mode": {
    "name": "ipython",
    "version": 3
   },
   "file_extension": ".py",
   "mimetype": "text/x-python",
   "name": "python",
   "nbconvert_exporter": "python",
   "pygments_lexer": "ipython3",
   "version": "3.9.7"
  }
 },
 "nbformat": 4,
 "nbformat_minor": 2
}
