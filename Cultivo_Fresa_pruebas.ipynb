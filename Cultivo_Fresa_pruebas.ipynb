{
 "cells": [
  {
   "cell_type": "code",
   "execution_count": 2,
   "metadata": {},
   "outputs": [],
   "source": [
    "# pedir nombre y crear un archivo con el nombre del usuario\n",
    "nombre = input(\"Dijite su nombre\")\n",
    "name_file = \"{}.txt\".format(nombre)\n",
    "file = open(name_file,'a')\n",
    "file.write(\"\\n \"+\"El cultivo es de \" + nombre)\n",
    "file.close()"
   ]
  },
  {
   "cell_type": "code",
   "execution_count": 4,
   "metadata": {},
   "outputs": [],
   "source": [
    "# creo el archivo vacio\n",
    "nombre = input(\"¿Cual es su nombre? :\")\n",
    "\n",
    "def crear_archivo(nombre):\n",
    "   name_file = \"{}.txt\".format(nombre)\n",
    "   file = open(name_file,'a')\n",
    "   file.close()\n",
    "   return name_file\n",
    "\n",
    "name_file = crear_archivo(nombre)"
   ]
  },
  {
   "cell_type": "code",
   "execution_count": 5,
   "metadata": {},
   "outputs": [],
   "source": [
    "#Agregar datos a txt\n",
    "def guardar_datos(nombre_file, datos_dia):\n",
    "   file = open(nombre_file,'a')\n",
    "   file.write(str(datos_dia) + \"\\n\")\n",
    "   file.close()"
   ]
  },
  {
   "cell_type": "code",
   "execution_count": 6,
   "metadata": {},
   "outputs": [
    {
     "name": "stdout",
     "output_type": "stream",
     "text": [
      "[(2022, 3, 31), 3, 793, 781]\n"
     ]
    }
   ],
   "source": [
    "#generar datos random\n",
    "import random\n",
    "def crear_datos_random(nombre_file):\n",
    "   for i in range (1,32):\n",
    "      fecha = (2022,3,i)\n",
    "      area_cultivo = random.randint(1,4)\n",
    "      fresa_total = random.randint(1,1000)\n",
    "      fresa_calidad = random.randint(1,fresa_total)\n",
    "      datos = [fecha, area_cultivo, fresa_total, fresa_calidad]\n",
    "      guardar_datos(nombre_file,datos)\n",
    "   print(datos)\n",
    "\n",
    "crear_datos_random(name_file)"
   ]
  },
  {
   "cell_type": "code",
   "execution_count": null,
   "metadata": {},
   "outputs": [],
   "source": [
    "#Leer archivos linea por linea"
   ]
  },
  {
   "cell_type": "code",
   "execution_count": 33,
   "metadata": {},
   "outputs": [
    {
     "name": "stdout",
     "output_type": "stream",
     "text": [
      "juan.txt\n",
      "['\\n', ' El cultivo es de juan\\n', ' El cultivo es de juan\\n', ' El cultivo es de juan']\n"
     ]
    }
   ],
   "source": [
    "# leer archivo linea por linea\n",
    "print(name_file)\n",
    "file = open(name_file,'r')\n",
    "lineas = file.readlines()\n",
    "file.close()\n",
    "print(lineas)"
   ]
  },
  {
   "cell_type": "code",
   "execution_count": null,
   "metadata": {},
   "outputs": [],
   "source": [
    "# leer archivo linea por linea\n",
    "file = open(name_file, 'r')\n",
    "for linea in file:\n",
    "   print(linea)\n",
    "file.close()"
   ]
  },
  {
   "cell_type": "code",
   "execution_count": null,
   "metadata": {},
   "outputs": [],
   "source": [
    "#lectura y limpieza de datos\n",
    "def lectura_datos(name_file, zona=None, fecha_inicial=None, fecha_final=None):\n",
    "\tfile = open(name_file, \"r\")\n",
    "\t#print(palabra.read())\n",
    "\tfor linea in file:\n",
    "\t\tn = list(linea.strip('([]\\n').split('),'))\n",
    "\t\tprint(n)\n",
    "\t\tif fecha_inicial != None :\n",
    "\t\t\tfecha = list(n[0].split(',')) # lista fecha\n",
    "\t\t\tdatos = list(n[1].split(',')) # lista datos\n",
    "\t\t\t#if fecha_inicial < fecha  || fecha < fecha_final:\n",
    "\t\t\t#\tpass#continuar aca con las condiciones para el rango de las fechas\n",
    "\tfile.close()\n",
    "\tprint(n) #lista tratada y dividida en fecha y datos\n",
    "\tfecha = list(n[0].split(',')) # lista fecha\n",
    "\tdatos = list(n[1].split(',')) # lista datos\n",
    "\tprint(fecha)\n",
    "\tprint(datos)\n",
    "\tprint(int(datos[1]))\n",
    "\tprint(\"---------------------------------------------\")\n",
    "\treturn fecha,datos\n",
    "\n",
    "a,n =lectura_datos(name_file)\n"
   ]
  },
  {
   "cell_type": "markdown",
   "metadata": {},
   "source": []
  },
  {
   "cell_type": "code",
<<<<<<< HEAD
   "execution_count": 112,
=======
   "execution_count": null,
>>>>>>> dea4a4d9b0c02a7f666944b278ef02e260767527
   "metadata": {},
   "outputs": [
    {
     "name": "stdout",
     "output_type": "stream",
     "text": [
      "[2022, 3, 7, 4, 410, 277]\n",
      "[2022, 3, 11, 4, 105, 37]\n",
      "[2022, 3, 16, 4, 582, 253]\n",
      "[2022, 3, 23, 4, 594, 41]\n",
      "_________________________________\n",
      "['2022, 3, 7', '2022, 3, 11', '2022, 3, 16', '2022, 3, 23']\n",
      "[133, 68, 329, 553]\n",
      "[277, 37, 253, 41]\n"
     ]
    }
   ],
   "source": [
    "#lectura - limpieza de datos - y busqueda por zona y fecha\n",
    "def lectura_datos(name_file, zona=None, fecha_inicial=None, fecha_final=None):\n",
    "\tfile = open(name_file, \"r\")\n",
    "\t#zonas =int (input(\"Escriba la zona:\"))\n",
    "\t#print(palabra.read())\n",
    "\tfecha_grafico = []\n",
    "\tdato_total_grafico = []\n",
    "\tdato_calidad_grafico = []\n",
    "\tfor linea in file:\n",
    "\t\tn = list(linea.strip('([]\\n').split('),'))\n",
    "\t\t#print(type(n[0]))\n",
    "\t\tfecha = list(n[0].split(',')) # lista fecha\n",
    "\t\tdatos = list(n[1].split(',')) # lista datos\n",
    "\t\t#print(fecha)\n",
    "\t\tfecha = list(map(int,fecha)) #lista a int\n",
    "\t\tdatos = list(map(int,datos))#Lisya a int datos\n",
    "\t\tunion = fecha+datos\n",
    "\t\t#print(type(fecha[0]))\n",
    "\t\tzonas=union[3]\n",
    "\t\t#busqueda por zona\n",
    "\t\t#graficos\n",
    "\t\tif zona != None:\n",
    "\t\t\tif zona==zonas:\n",
    "\t\t\t\tprint(union)\n",
    "\t\t\t\tfecha_grafico.append(n[0])\n",
    "\t\t\t\t#print(fecha_grafico)\n",
    "\t\t\t\tresta = union[4]-union[5]\n",
    "\t\t\t\tdato_total_grafico.append(resta)\n",
    "\t\t\t\t#print(dato_total_grafico)\n",
    "\t\t\t\tun = union[5]\n",
    "\t\t\t\tdato_calidad_grafico.append(un)\n",
    "\t\t\t\t#print(dato_calidad_grafico)\n",
    "\t\telif fecha_inicial != None and fecha_final != None:\n",
    "\t\t\t#print(\"Hola\")\n",
    "\t\t\tif fecha_inicial >= fecha or  fecha <= fecha_final:\n",
    "\t\t\t\tprint(union)\n",
    "\t\t\t\tfecha_grafico.append(n[0])\n",
    "\t\t\t\t#print(fecha_grafico)\n",
    "\t\t\t\tresta = union[4]-union[5]\n",
    "\t\t\t\tdato_total_grafico.append(resta)\n",
    "\t\t\t\t#print(dato_total_grafico)\n",
    "\t\t\t\tun = union[5]\n",
    "\t\t\t\tdato_calidad_grafico.append(un)\n",
    "\t\t\t\t#print(dato_calidad_grafico)\n",
    "\t\t\telif fecha > fecha_final :\n",
    "\t\t\t\tbreak\n",
    "\t\telse:\n",
    "\t\t\tprint(\"Busqueda Vacia\")\n",
    "\treturn fecha_grafico, dato_total_grafico, dato_calidad_grafico\n",
    "\n",
    "#a,n =lectura_datos(name_file)\n",
    "#f = fecha , dt = dato_total_grafico, dc = dato_calidad_grafico\n",
<<<<<<< HEAD
    "f,dt,dc = lectura_datos(name_file=\"juan.txt\", zona=4)\n",
    "            #fecha_inicial=[2022, 3, 2],\n",
    "            #fecha_final=[2022, 3, 10])\n",
=======
    "f,dt,dc = lectura_datos(name_file=\"juan.txt\", #zona=4)\n",
    "            fecha_inicial=[2022, 3, 2],\n",
    "            fecha_final=[2022, 3, 10])\n",
>>>>>>> dea4a4d9b0c02a7f666944b278ef02e260767527
    "print(\"_________________________________\")\n",
    "#print(f[0].replace(', ', \"-\"))\n",
    "print(f)\n",
    "print(dt)\n",
    "print(dc)"
   ]
  },
  {
   "cell_type": "markdown",
   "metadata": {},
   "source": []
  },
  {
   "cell_type": "code",
<<<<<<< HEAD
   "execution_count": 113,
   "metadata": {},
   "outputs": [
    {
     "name": "stdout",
     "output_type": "stream",
     "text": [
      "['2022-3-7', '2022-3-11', '2022-3-16', '2022-3-23']\n"
     ]
    }
   ],
   "source": [
    "#Convertir la fecha a formato año-mes-dia\n",
    "def convertir_fecha(fecha):\n",
    "   fecha_modificada = []\n",
    "   for i in range(0,len(fecha)):\n",
    "      modificado = fecha[i].replace(', ', \"-\")\n",
    "      fecha_modificada.append(modificado)\n",
    "   return fecha_modificada\n",
    "\n",
    "print(convertir_fecha(f))"
   ]
  },
  {
   "cell_type": "code",
   "execution_count": 114,
   "metadata": {},
   "outputs": [
    {
     "data": {
      "image/png": "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",
      "text/plain": [
       "<Figure size 648x504 with 1 Axes>"
      ]
     },
     "metadata": {
      "needs_background": "light"
     },
     "output_type": "display_data"
    }
   ],
   "source": [
    "# graficar datos\n",
=======
   "execution_count": null,
   "metadata": {},
   "outputs": [],
   "source": [
    "\n",
    "def convertir_fecha(fecha):\n",
    "   fecha_modificada = []\n",
    "   for i in range(0,len(fecha)):\n",
    "      modificado = fecha[i].replace(', ', \"-\")\n",
    "      fecha_modificada.append(modificado)\n",
    "   return fecha_modificada\n",
    "\n",
    "print(convertir_fecha(f))"
   ]
  },
  {
   "cell_type": "code",
   "execution_count": 111,
   "metadata": {},
   "outputs": [
    {
     "data": {
      "image/png": "iVBORw0KGgoAAAANSUhEUgAAAjEAAAHBCAYAAACYFepwAAAAOXRFWHRTb2Z0d2FyZQBNYXRwbG90bGliIHZlcnNpb24zLjUuMSwgaHR0cHM6Ly9tYXRwbG90bGliLm9yZy/YYfK9AAAACXBIWXMAAAsTAAALEwEAmpwYAAAfp0lEQVR4nO3dfZidZWEm8PuZGckHASUQMMpHUEMgBCISQ1WqVqugSEGpFfyiCotaaXGxesm6K0WXLlrFaq2siC5gy7oItrK0W1QULhctbiJECCQkfCMEQkQMyFeSZ/84JzokEzKBmZw8md/vuuaa97znec97n5MzM3ee9z3nlFprAABa09frAAAAT4cSAwA0SYkBAJqkxAAATVJiAIAmDfQ6AACMhvnz5+88MDBwTpJZ8Z/2Fq1Jcv2qVauOP/DAA+8baoASA8BWaWBg4JznPve5+0yZMuWBvr4+7yfSmDVr1pTly5fPXLZs2TlJ/mioMZopAFurWVOmTPm1AtOmvr6+OmXKlAfTmUkbesxmzAMAm1OfAtO27r/fBruKEgMANMk5MQCMCeW0cuBI3l49tc7f6D5LOfD444+/96tf/epdSfKJT3xil4ceeqj/zDPPvHskszyVuXPnzvjsZz975ytf+crfbK59bi5mYgBglGyzzTb1X//1X3e45557ntakwRNPPDHSkbYqZmIAYJT09/fXd7/73cv/+q//epe/+7u/+8Xg62666aZtjj322GkrVqwY2HHHHVedf/75t02fPv3xo446atoOO+yw6rrrrpu4//77/+aXv/zlwPjx49csXbp0/C9+8YtxX/nKV24999xzd5o/f/62BxxwwMMXX3zxbUnyjne8Y/cFCxZs++ijj/YdfvjhD3z+85/fbLM9vWImBgBG0Uc+8pH7vv3tb09esWJF/+D173//+3d/+9vfvuKmm2664W1ve9uKD3zgA7utve7mm28ef9VVV9209jDUgw8+OPCTn/zkpjPOOOPOt73tbdM/8pGP3LtkyZKFixYtmvDjH/94QpKceeaZv7j++utvXLRo0cKrrrpqu6uvvnrC5r2nm58SAwCjaPLkyWve+ta3rjjjjDN2Hrz+mmuu2faEE074ZZJ84AMf+OX8+fMnrb3uLW95ywMDA787WHLYYYf9qq+vLy95yUt+s+OOOz4xd+7cR/r7+7PXXns9cvPNN49LkvPOO2/yzJkz95k5c+bMJUuWjF+wYMH4zXQXe0aJAYBRdsopp9x7wQUX7PTwww8P6+/upEmT1gy+PH78+Jok/f392WabbX77svG+vr6sWrWqLFq0aJsvfelLu1x55ZU33XTTTTe85jWvefDRRx/d6v/Gb/V3EAB6bZdddll9+OGHP3DBBRfstHbdAQcc8PA555yzQ5J85StfmTxnzpyHnu7tP/DAA/0TJkxYM3ny5NV33nnnwBVXXPHskci9pXNiLwBjwnBeEj2aPv7xjy8777zzpqy9fNZZZ91x7LHHTvvCF77w3LUn9j7d237Zy172yKxZs34zffr0fXfffffHDjzwwKddiFpSavVmhgBsfRYsWHDb7Nmz7+91Dp6ZBQsW7DR79uxpQ13ncBIA0CQlBgBokhIDADRJiQEAmqTEAABNUmIAgCZ5nxgAxohy4Mje3sbfd6a/v//A6dOnP7J69eryohe96JELL7zwtu22227NuuMOOOCAva+55ppFI5tvdHzxi1/ccd68eduef/75d3zmM5+ZMnHixDUnnnjiisFjFi9evM2b3vSm6UuWLFk43Ns96qijpr3pTW968D3vec8Dw93GTAwAjJJx48atWbRo0Q1LlixZ+KxnPat+7nOfmzL4+lWrViVJRqPAPPHEEyN9k+v56Ec/unzdArM5KTEAsBkcfPDBDy1dunTcpZdeut1BBx201+GHH77njBkz9k2SiRMnHpAkl1566XYvfelLZ7zxjW98wbRp02b92Z/92fPPOuusyfvtt98+e+2118yFCxeOS5K777574JBDDnnhrFmz9pk1a9Y+3/3ud7dNkpNPPvl5xxxzzB6veMUrpr/lLW/Zc/HixdsceOCBM7ofDLnP9773vW2HyvalL31px7322mvmjBkzZh555JF7JskFF1zw7P3333/vffbZZ+bLX/7yve688871jt6cfPLJz/vEJz6xS5L86Ec/mjhjxoyZL37xi/c+88wzf/thlxvKsGbNmrz73e/e/YUvfOG+r371q190//33b/LRIYeTAGCUPfHEE7nsssu2f/3rX//rJPn5z3++7TXXXLNw7733fnzdsYsWLZpw0UUX3bLzzjuv2mOPPfYbN27c/dddd92Nn/rUp3b+3Oc+t/PXv/71O9/3vvftdvLJJ997yCGHPLRkyZJtDjnkkOm33HLLwu5tT7z66qsXTZo0qa5cubLvRz/60U0TJ06s11133bhjjjnmBddff/2Ng/c3b9688Z/97Gen/uQnP1k0derUVffee29/krzuda976Oijj17U19eXM888c6dPfvKTz/3qV79614bu43HHHTft85///B2HHXbYQ+973/t2Xbv+ec973qqhMnzjG994ztKlS8ctXrx44V133fWs/fbbb98//dM/3aRZHSUGAEbJY4891rf33nvPTJKDDjpo5UknnXT/97///Un777//w0MVmCTZb7/9Ht5jjz2eSJLdd9/9sTe84Q0PJsns2bMfufLKK7dLkquuumr7JUuWTFi7zUMPPdT/wAMP9CXJoYce+qtJkybVJHn88cfLcccdt8cNN9wwoa+vL7fffvu4dfd32WWXbX/44Yc/MHXq1FVJ58Mqk+TWW2/d5sgjj9x1+fLlz3r88cf7dtttt8c2dD9XrFjRv3Llyv7DDjvsoSR573vfu+IHP/jBs58qw5VXXrndn/zJn/xyYGAg06ZNe+JlL3vZyk19fJUYABgla8+JWXf9xIkT1zu5d9A2v/1Qw76+vowfP76uXV69enVJklpr5s2bd+PasjLYtttu+9vbPv3003fZeeedn7j44otvXbNmTSZMmLDeyc211pRS1rudE088cfeTTjpp2Tve8Y4HL7300u0++clPPm9Dmbu3MeR1T5VhQ9sMl3NiAKAxBx988K8//elP//a8kx//+McThhr34IMP9k+dOvWJ/v7+fPnLX95x9erV64059NBDf33JJZdMXrZsWX+SrD2ctHLlyv7dd9/9iSQ599xzd3yqPDvttNPqSZMmrb7ssssmdcdP3liGV73qVSu/9a1vTV61alVuv/32Z/37v//7dpv6OJiJAWCM2PhLoltx9tln33n88cfvvtdee81cvXp1Oeigg1a+/OUvv2PdcR/60IfuO+qoo174z//8zzscfPDBKydMmLDeDNCcOXMe/fCHP3zP7//+7+/d19dXZ82a9ZuLL774to9//ON3H3PMMS/cZZddHp8zZ87Dd9xxx3qHogb72te+dtvxxx8/bcKECWte85rX/HpjGd71rnf96vLLL99+xowZ++65556Pzp07d5MPJ5Va15tBAoDmLViw4LbZs2ff3+scPDMLFizYafbs2dOGus7hJACgSUoMANAkJQaArdWaNWvWPLOXv9BT3X+/Db6SS4kBYGt1/fLly5+tyLRpzZo1Zfny5c9Ocv2Gxnh1EgBbpVWrVh2/bNmyc5YtWzYr/tPeojVJrl+1atXxGxrg1UkAQJM0UwCgSUoMANAkJQYAaNIWcWLvTjvtVKdNm9brGADACJk/f/79tdYpo7mPLaLETJs2LfPmzet1DABghJRSbh/tfTicBAA0SYkBAJqkxAAATVJiAIAmKTEAQJOUGACgSUoMANAkJQYAaJISAwA0SYkBAJqkxAAATVJiAIAmKTEAQJOUGACgSUoMANAkJQYAaNJArwMAwNav9DrABtReB3hGzMQAAE1SYgCAJikxAECTlBgAoElKDADQJCUGAGiSEgMANEmJAQCapMQAAE1SYgCAJikxAECTlBgAoElKDADQJCUGAGiSEgMANEmJAQCapMQAAE1SYgCAJikxAECTlBgAoElKDADQJCUGAGiSEgMANEmJAQCapMQAAE1SYgCAJikxAECTlBgAoElKDADQpIFeB+CplF4HGELtdQAASGImBgBolBIDADRJiQEAmqTEAABNUmIAgCYNq8SUUv5jKWVhKeX6Usr/LKWML6VMLqV8r5SypPt9h0HjTymlLC2lLC6lHDJ68QGAsWqjJaaU8vwkf5FkTq11VpL+JEcn+ViSy2ut05Nc3r2cUsrM7vX7Jjk0yZdLKf2jEx8AGKuGezhpIMmEUspAkolJ7k5yRJLzutefl+TI7vIRSb5Za32s1nprkqVJ5o5YYgCADKPE1Fp/keSzSe5Ick+SB2ut302yS631nu6Ye5Ls3N3k+UnuHHQTd3XXPUkp5YRSyrxSyrzly5c/s3sBAIw5wzmctEM6syt7Jnlekm1LKe98qk2GWLfe27zWWs+utc6ptc6ZMmXKcPMCACQZ3uGkP0xya611ea31iSTfTvLyJPeWUqYmSff7fd3xdyXZbdD2u6Zz+AkAYMQMp8TckeT3SikTSyklyWuT3JjkkiTHdsccm+Q73eVLkhxdShlXStkzyfQkPx3Z2ADAWLfRD4CstV5dSrkoyc+SrEpyTZKzk0xKcmEp5bh0is5bu+MXllIuTHJDd/wHa62rRyk/ADBGlVp7/6nEc+bMqfPmzet1jC2QT7EG2Dpsib/Pk9H8nV5KmV9rnTNqO8gwZmLonXJarxOsr57a6wQA0OFjBwCAJikxAECTlBgAoElKDADQJCUGAGiSEgMANEmJAQCapMQAAE1SYgCAJikxAECTlBgAoElKDADQJCUGAGiSEgMANEmJAQCapMQAAE1SYgCAJg30OgAwEkqvA2xA7XUAYCtmJgYAaJKZGAAYZeW0XicYWj211wmeGTMxAECTlBgAoElKDADQJCUGAGiSEgMANEmJAQCapMQAAE1SYgCAJikxAECTlBgAoElKDADQJCUGAGiSEgMANEmJAQCapMQAAE1SYgCAJikxAECTlBgAoElKDADQJCUGAGiSEgMANEmJAQCapMQAAE1SYgCAJikxAECTlBgAoElKDADQJCUGAGiSEgMANEmJAQCapMQAAE1SYgCAJikxAECTlBgAoElKDADQJCUGAGiSEgMANEmJAQCapMQAAE1SYgCAJikxAECTlBgAoElKDADQpIFeBwCA4Su9DjCE2usAY5aZGACgSUoMANAkJQYAaJISAwA0SYkBAJqkxAAATVJiAIAmDavElFKeU0q5qJSyqJRyYynlZaWUyaWU75VSlnS/7zBo/CmllKWllMWllENGLz4AMFYNdybmC0n+rda6d5LZSW5M8rEkl9dapye5vHs5pZSZSY5Osm+SQ5N8uZTSP9LBAYCxbaMlppSyfZJXJvlaktRaH6+1/irJEUnO6w47L8mR3eUjknyz1vpYrfXWJEuTzB3Z2ADAWDecmZgXJFme5H+UUq4ppZxTStk2yS611nuSpPt95+745ye5c9D2d3XXPUkp5YRSyrxSyrzly5c/ozsBAIw9wykxA0lekuSsWusBSR5O99DRBgz1wRbrfbBErfXsWuucWuucKVOmDCssAMBawykxdyW5q9Z6dffyRemUmntLKVOTpPv9vkHjdxu0/a5J7h6ZuAAAHRstMbXWZUnuLKXM6K56bZIbklyS5NjuumOTfKe7fEmSo0sp40opeyaZnuSnI5oaABjzBoY57s+T/GMpZZsktyR5TzoF6MJSynFJ7kjy1iSptS4spVyYTtFZleSDtdbVI54cABjThlViaq3XJpkzxFWv3cD405Oc/vRjAQA8Ne/YCwA0SYkBAJqkxAAATVJiAIAmKTEAQJOUGACgSUoMANAkJQYAaJISAwA0SYkBAJqkxAAATVJiAIAmKTEAQJOUGACgSUoMANCkgV4HgC1L6XWAIdReBwDYIpmJAQCapMQAAE1SYgCAJikxAECTlBgAoElKDADQJCUGAGiSEgMANEmJAQCapMQAAE1SYgCAJikxAECTlBgAoElKDADQJCUGAGiSEgMANEmJAQCapMQAAE1SYgCAJikxAECTlBgAoElKDADQJCUGAGiSEgMANEmJAQCapMQAAE1SYgCAJikxAECTlBgAoElKDADQJCUGAGiSEgMANEmJAQCapMQAAE1SYgCAJikxAECTlBgAoElKDADQJCUGAGiSEgMANEmJAQCapMQAAE1SYgCAJikxAECTlBgAoEkDvQ4AW5JyWq8TrK+e2usEAFsmMzEAQJOUGACgSUoMANAkJQYAaJISAwA0SYkBAJqkxAAATVJiAIAmKTEAQJO8Yy/A01Z6HWAItdcBYLMZ9kxMKaW/lHJNKeXS7uXJpZTvlVKWdL/vMGjsKaWUpaWUxaWUQ0YjOAAwtm3K4aSTktw46PLHklxea52e5PLu5ZRSZiY5Osm+SQ5N8uVSSv/IxAUA6BhWiSml7JrksCTnDFp9RJLzusvnJTly0Ppv1lofq7XemmRpkrkjkhYAoGu4MzF/m+SjSdYMWrdLrfWeJOl+37m7/vlJ7hw07q7uuicppZxQSplXSpm3fPnyTc0NAIxxGy0xpZQ3Jbmv1jp/mLc51Jlu651pVms9u9Y6p9Y6Z8qUKcO8aQCAjuG8OukVSf6olPLGJOOTbF9K+Yck95ZSptZa7ymlTE1yX3f8XUl2G7T9rknuHsnQAAAbnYmptZ5Sa9211jotnRN2f1BrfWeSS5Ic2x12bJLvdJcvSXJ0KWVcKWXPJNOT/HTEkwMAY9ozeZ+YM5JcWEo5LskdSd6aJLXWhaWUC5PckGRVkg/WWlc/46QAAINsUomptV6R5Iru8ookr93AuNOTnP4MswEAbJCPHQAAmqTEAABNUmIAgCYpMQBAk5QYAKBJSgwA0CQlBgBokhIDADRJiQEAmqTEAABNUmIAgCYpMQBAk5QYAKBJSgwA0CQlBgBokhIDADRJiQEAmqTEAABNUmIAgCYpMQBAk5QYAKBJSgwA0CQlBgBokhIDADRJiQEAmqTEAABNUmIAgCYpMQBAk5QYAKBJSgwA0CQlBgBokhIDADRJiQEAmqTEAABNUmIAgCYpMQBAk5QYAKBJSgwA0CQlBgBokhIDADRJiQEAmqTEAABNUmIAgCYpMQBAk5QYAKBJSgwA0CQlBgBo0kCvAwDPXDmt1wmGVk/tdQJga2YmBgBokhIDADRJiQEAmqTEAABNUmIAgCYpMQBAk5QYAKBJSgwA0CQlBgBokhIDADRJiQEAmqTEAABNUmIAgCYpMQBAkwZ6HWD0lV4HGELtdQAAaJ6ZGACgSUoMANAkJQYAaJISAwA0SYkBAJqkxAAATVJiAIAmKTEAQJOUGACgSRstMaWU3UopPyyl3FhKWVhKOam7fnIp5XullCXd7zsM2uaUUsrSUsriUsoho3kHAICxaTgzMauSfLjWuk+S30vywVLKzCQfS3J5rXV6ksu7l9O97ugk+yY5NMmXSyn9oxEeABi7Nlpiaq331Fp/1l1emeTGJM9PckSS87rDzktyZHf5iCTfrLU+Vmu9NcnSJHNHODcAMMZt0jkxpZRpSQ5IcnWSXWqt9ySdopNk5+6w5ye5c9Bmd3XXrXtbJ5RS5pVS5i1fvvxpRAcAxrJhl5hSyqQkFyf5UK311081dIh1631sc6317FrrnFrrnClTpgw3BgBAkmGWmFLKs9IpMP9Ya/12d/W9pZSp3eunJrmvu/6uJLsN2nzXJHePTFwAgI7hvDqpJPlakhtrrWcOuuqSJMd2l49N8p1B648upYwrpeyZZHqSn45cZACAZGAYY16R5F1JriulXNtd95+SnJHkwlLKcUnuSPLWJKm1LiylXJjkhnRe2fTBWuvqkQ4OAIxtGy0xtdb/m6HPc0mS125gm9OTnP4MctG0DT1dem29U7MAaJh37AUAmqTEAABNGs45MQCjaEs8/OjQI7Rgqy8x5bReJ1hfPbXXCQCgfQ4nAQBNUmIAgCZt9YeTAFjXlngeUuJcJDaVmRgAoElKDADQJCUGAGiSEgMANEmJAQCapMQAAE1SYgCAJikxAECTlBgAoElKDADQJCUGAGiSEgMANEmJAQCapMQAAE0a6HUAgFaV03qdYH311F4ngM1HiQGgGYojgzmcBAA0SYkBAJrkcBLAGLMlHpJJHJZh05mJAQCapMQAAE1SYgCAJikxAECTlBgAoElKDADQJCUGAGiSEgMANEmJAQCapMQAAE1SYgCAJikxAECTlBgAoElKDADQJCUGAGiSEgMANEmJAQCapMQAAE1SYgCAJikxAECTlBgAoElKDADQpIFeBwDGtnJarxOsr57a6wTAcJiJAQCapMQAAE1SYgCAJikxAECTlBgAoElKDADQJCUGAGiSEgMANEmJAQCapMQAAE1SYgCAJikxAECTlBgAoElKDADQJCUGAGiSEgMANEmJAQCapMQAAE1SYgCAJg30OgBbn3JarxMMrZ7a6wQAjCQzMQBAk5QYAKBJSgwA0KRRKzGllENLKYtLKUtLKR8brf0AAGPTqJSYUkp/kr9P8oYkM5McU0qZORr7AgDGptGaiZmbZGmt9ZZa6+NJvpnkiFHaFwAwBpVa68jfaCl/nOTQWuvx3cvvSnJQrfXEQWNOSHJC9+KMJItHPMjI2ynJ/b0O8TS0mjuRvRdazZ20m73V3Em72VvNnbSTfY9a65TR3MFovU9MGWLdk9pSrfXsJGeP0v5HRSllXq11Tq9zbKpWcyey90KruZN2s7eaO2k3e6u5k7azj7TROpx0V5LdBl3eNcndo7QvAGAMGq0S8/+STC+l7FlK2SbJ0UkuGaV9AQBj0KgcTqq1riqlnJjksiT9Sb5ea104GvvazJo6/DVIq7kT2Xuh1dxJu9lbzZ20m73V3Enb2UfUqJzYCwAw2rxjLwDQJCUGAGjSVlFiSim7lVJ+WEq5sZSysJRy0qDrJpdSvldKWdL9vkN3/etKKfNLKdd1v7+mu35iKeVfSimLurd1xjD2P7eUcm33a0Ep5c3D2Oat3dtfU0qZ11j2v+nu48ZSyvLux0u0kv1T3dwrSykPdbNv8bnXyV9LKTc19Jj/VSllWfcxf7SUcnsLubvb/Xkp5eZSysOllBUNPeb/qzt+YSnlke7j3kr2F5dSftZ9vjxSSrllS89dOn+DflpK+U33sb6+lLL9lpq3u83gv0Fz1rnulNL5yKDFpZRDNnZbPVVrbf4rydQkL+kub5fkpiQzu5c/k+Rj3eWPJfl0d/mAJM/rLs9K8ovu8sQkf9Bd3ibJj5K8YSP7n5hkYFCW+9Zefopt9knnTf5+nOQdjWV/fTonhU9Ncm6STzeUffu1z5ckf5Hkay3k7o7dLckPk9yTzptdtfKY/1WS09Lez+gfJPl+kj26z5edW8k+aNupSb6R5BOtZE/y3SRv7z7mb+zuZ4vO3R2zMMmruo/zsiRnbal5u+PW/g26IsmcQetnJlmQZFySPZPcnKR/OM+3Xnz1PMCo3KnkO0le111enGTqoH/cxUOML0lWJBk3xHVfSPIfNmHfeya5d2NPoEHj130CNZO9u82bk/xjo9lPSXJWK7mTXJRkdpLbkuzUymOeTon5y3XWtZD7wiR/OMT6LT77Ovu+M8n0VrKn86rWt3WXj0lyQSO5f53fvVjmsiS3b8l5B42/Ik/+G3RKklPW+fd42XD3v7m/eh5gxO9QMi3JHUm2717+1TrXPzDENn+c5PtDrH9OkluSvGAY+z0onSb+UJI3b0Le3z6BWsve3fZ/J3lnS9mTnJ7OL/br0/nf3hafO8kfJflCd/m2dGZimnjM0ykxtyX5eZKvJ9m/kdzXpjODdHWSK5O8tJXHfNB2r0wyr7vcRPZ0ZgjuSOdn9BdJXtFI7h+n8xmB05I8kGTllpx30HZX5Mkl5ktJ3jno8teS/PFwb29zf/U8wIjemWRSkvlJ3jJo3VM+gZLsm8502QvXWT+Q5P8k+dAmZtgnyU+TjN+UJ1Cj2T+e5J9azN7d5tR03kl6i86dzlTx1Ume3b18WzqHOJp4zJPsks77RfWlM7V+fyO5r0/yxXT+lzy3+7g38ZgPGn9Wkg+39DPafcyP6i6/K50ZjhZy753k8iQPp/Ohxyu25LyDxl+RJ5eYv8/6JeaoTcmwOb96HmDE7kjyrHSmvU5eZ/0Gp/LS+TiEm5K8Yojb+3qSLz7NLD8c/KQYxhPooNayJzk2yU/SOcekqeyDni9XJrlnS8+dZL90jnHf1v1aleSRJKdu6dlbfcy7Y/4tyasHZf9Nkv/SQvbuuIF0DitMa+lnNMmD6RTHtb/TH20k92//BiXZK8lPt+S8g8ZeEYeTenwnOk/485P87RDX/U2efFLVZ7rLz0nn5KX1GmaS/5rk4iR966x/c5L/NsT4PfO7k6r2SOd/92vPWTg/ydyNPIH+paXsSQ5NckOSKa097kmmD3q+/DDJRS3kXue5/lCS/97QYz510GN+ZZJvNpL7/Uk+2c3+T0lWpnvOw5aefdDP6ZVp72f0xiSv7l5/cZL5W3ru7nPkwiR/m86M4/lJ3rul5l1n2yvy5BKzb558Yu8tcWLvKN+J5OB0PiX75+kcx742yRu71+2YzhTfku73yd31/zmdab9rB33tnE4zrt0fpLXrj+9u85cZ1FAH7f9d6RyLvDbJz5IcOei6a5PsNsQ2b07ngzIf7+5vZUPZl6ZzvHpJd38rGsp+cTo/lDWdaeq122/RuYd4ri9MO4/5N9KZLq/p/C/7+kZyb5PkH/K758vNrTzm3evOTecPaGu/Gw9Osqi7r9+kM5OxRefO734uH0vyaDozYFts3nX+Bj3WzXvZoOs+ns7zfXE28sqoXn/1PEBLX+n8QpuyCeO3T/KtXueWXe6xkr3V3LLLvTXm3RxfPjsJAGjSVvGOvQDA2KPEAABNUmIAgCYpMQBAk5QYAKBJSgwA0KT/D3UHtPeEey5+AAAAAElFTkSuQmCC",
      "text/plain": [
       "<Figure size 648x504 with 1 Axes>"
      ]
     },
     "metadata": {
      "needs_background": "light"
     },
     "output_type": "display_data"
    }
   ],
   "source": [
>>>>>>> dea4a4d9b0c02a7f666944b278ef02e260767527
    "import matplotlib.pyplot as plt\n",
    "import numpy as np\n",
    "\n",
    "def graficar(fecha_zona, total, calidad):\n",
    "\tplt.figure(figsize=(9,7))\n",
    "\tplt.bar(fecha_zona,total,color=\"green\",label=\"Normal\")\n",
    "\tplt.bar(fecha_zona,calidad,color=\"yellow\",bottom=np.array(total),label=\"Primera calidad\")\n",
    "\t#plt.bar(year,data1,color=\"red\",bottom=np.array(data3)+np.array(data2),label=\"C++\")\n",
    "\tplt.legend(loc=\"lower left\",bbox_to_anchor=(0.8,1.0))\n",
    "\n",
    "graficar(f,dt,dc)"
   ]
  },
  {
   "cell_type": "code",
   "execution_count": 29,
   "metadata": {},
   "outputs": [
    {
     "name": "stdout",
     "output_type": "stream",
     "text": [
      "yes\n"
     ]
    }
   ],
   "source": [
    "# validacion de rango de fechas\n",
    "a = [2021, 3, 11]\n",
    "b = [2021, 3, 10]\n",
    "\n",
    "if a > b:\n",
    "   print(\"yes\")\n",
    "else:\n",
    "   print(\"false\")"
   ]
  },
  {
   "cell_type": "code",
   "execution_count": 15,
   "metadata": {},
   "outputs": [],
   "source": [
    "import random\n",
    "random.randint(1,5)\n",
    "datos = [[]]\n"
   ]
  },
  {
   "cell_type": "code",
   "execution_count": 13,
   "metadata": {},
   "outputs": [
    {
     "name": "stdout",
     "output_type": "stream",
     "text": [
      "a obtuvo\n",
      "b obtuvo\n",
      "c obtuvo\n",
      "d obtuvo\n"
     ]
    }
   ],
   "source": [
    "dic = {'a':1,'b' : 2, 'c' : 3 , 'd':4, 'a':3}\n",
    "dic.setdefault('a')\n",
    "\n",
    "for nota in dic.keys():\n",
    "   print(\"{} obtuvo\".format(nota))"
   ]
  }
 ],
 "metadata": {
  "interpreter": {
   "hash": "6a880546a330da62f0c66beb3f33dfa5745157ab8f10819995d3dabe1f32839d"
  },
  "kernelspec": {
   "display_name": "Python 3 (ipykernel)",
   "language": "python",
   "name": "python3"
  },
  "language_info": {
   "codemirror_mode": {
    "name": "ipython",
    "version": 3
   },
   "file_extension": ".py",
   "mimetype": "text/x-python",
   "name": "python",
   "nbconvert_exporter": "python",
   "pygments_lexer": "ipython3",
   "version": "3.9.7"
  }
 },
 "nbformat": 4,
 "nbformat_minor": 2
}
